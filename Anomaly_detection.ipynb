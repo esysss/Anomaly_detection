{
 "cells": [
  {
   "cell_type": "code",
   "execution_count": 110,
   "metadata": {},
   "outputs": [],
   "source": [
    "import numpy as np\n",
    "\n",
    "from sklearn.metrics import f1_score\n",
    "from sklearn.metrics import accuracy_score\n",
    "from sklearn.metrics import recall_score\n",
    "from sklearn.metrics import precision_score\n",
    "from sklearn.metrics.cluster import normalized_mutual_info_score\n",
    "\n",
    "from sklearn.pipeline import make_pipeline\n",
    "from sklearn.preprocessing import StandardScaler\n",
    "from sklearn.model_selection import train_test_split\n",
    "\n",
    "from sklearn.svm import SVC\n",
    "from sklearn import tree\n",
    "from sklearn.cluster import KMeans\n",
    "from sklearn.neural_network import MLPClassifier"
   ]
  },
  {
   "cell_type": "code",
   "execution_count": 22,
   "metadata": {},
   "outputs": [
    {
     "data": {
      "text/plain": [
       "array([[ 1,  6,  4, ...,  0,  1,  1],\n",
       "       [ 2, 48,  2, ...,  0,  1,  2],\n",
       "       [ 4, 12,  4, ...,  1,  0,  1],\n",
       "       ...,\n",
       "       [ 4, 12,  2, ...,  0,  1,  1],\n",
       "       [ 1, 45,  2, ...,  0,  1,  2],\n",
       "       [ 2, 45,  4, ...,  0,  1,  1]])"
      ]
     },
     "execution_count": 22,
     "metadata": {},
     "output_type": "execute_result"
    }
   ],
   "source": [
    "with open('german.data-numeric') as f:\n",
    "    lines = f.readlines()\n",
    "    \n",
    "data = [line.split() for line in lines]\n",
    "data = np.array(data).astype('int32')"
   ]
  },
  {
   "cell_type": "code",
   "execution_count": 37,
   "metadata": {},
   "outputs": [
    {
     "name": "stdout",
     "output_type": "stream",
     "text": [
      "(1000, 24) (1000,)\n"
     ]
    }
   ],
   "source": [
    "X = data[:,:-1]\n",
    "y = data[:,-1]\n",
    "\n",
    "X_train, X_test, y_train, y_test = train_test_split(X, y, test_size=0.3)\n",
    "\n",
    "print(X.shape, y.shape)"
   ]
  },
  {
   "cell_type": "code",
   "execution_count": 26,
   "metadata": {},
   "outputs": [
    {
     "data": {
      "text/plain": [
       "array([1, 2])"
      ]
     },
     "execution_count": 26,
     "metadata": {},
     "output_type": "execute_result"
    }
   ],
   "source": [
    "#these are the labels\n",
    "np.unique(y)"
   ]
  },
  {
   "cell_type": "code",
   "execution_count": 50,
   "metadata": {},
   "outputs": [
    {
     "name": "stdout",
     "output_type": "stream",
     "text": [
      " train accuracy: 0.8642857142857143\n",
      " test accuracy: 0.7533333333333333\n",
      " recall: 0.880184331797235\n",
      " precision: 0.799163179916318 \n",
      " f score: 0.8377192982456141\n"
     ]
    }
   ],
   "source": [
    "# apply SVM\n",
    "clf = make_pipeline(StandardScaler(), SVC())\n",
    "clf.fit(X_train, y_train)\n",
    "\n",
    "print(' train accuracy: {}\\n test accuracy: {}\\n recall: {}\\n precision: {} \\n f score: {}'.format(\n",
    "accuracy_score(y_train, clf.predict(X_train)),\n",
    "accuracy_score(y_test, clf.predict(X_test)),\n",
    "recall_score(y_test, clf.predict(X_test)),\n",
    "precision_score(y_test, clf.predict(X_test)),\n",
    "f1_score(y_test, clf.predict(X_test))\n",
    "))"
   ]
  },
  {
   "cell_type": "code",
   "execution_count": 64,
   "metadata": {},
   "outputs": [
    {
     "name": "stdout",
     "output_type": "stream",
     "text": [
      " train accuracy: 0.7228571428571429\n",
      " test accuracy: 0.7333333333333333\n",
      " recall: 0.9631336405529954\n",
      " precision: 0.7437722419928826 \n",
      " f score: 0.8393574297188756\n"
     ]
    }
   ],
   "source": [
    "#Decision Tree\n",
    "clf = tree.DecisionTreeClassifier(max_depth = 2)\n",
    "clf.fit(X_train, y_train)\n",
    "\n",
    "print(' train accuracy: {}\\n test accuracy: {}\\n recall: {}\\n precision: {} \\n f score: {}'.format(\n",
    "accuracy_score(y_train, clf.predict(X_train)),\n",
    "accuracy_score(y_test, clf.predict(X_test)),\n",
    "recall_score(y_test, clf.predict(X_test)),\n",
    "precision_score(y_test, clf.predict(X_test)),\n",
    "f1_score(y_test, clf.predict(X_test))\n",
    "))"
   ]
  },
  {
   "cell_type": "code",
   "execution_count": 107,
   "metadata": {},
   "outputs": [
    {
     "name": "stdout",
     "output_type": "stream",
     "text": [
      "##### number of clusters:  2  ########\n",
      "cluster:  1\n",
      "1 :  103\n",
      "2 :  77\n",
      "cluster:  2\n",
      "1 :  597\n",
      "2 :  223\n",
      "##### number of clusters:  3  ########\n",
      "cluster:  1\n",
      "1 :  529\n",
      "2 :  183\n",
      "cluster:  2\n",
      "1 :  143\n",
      "2 :  86\n",
      "cluster:  3\n",
      "1 :  28\n",
      "2 :  31\n",
      "##### number of clusters:  4  ########\n",
      "cluster:  1\n",
      "1 :  209\n",
      "2 :  92\n",
      "cluster:  2\n",
      "1 :  393\n",
      "2 :  134\n",
      "cluster:  3\n",
      "1 :  17\n",
      "2 :  25\n",
      "cluster:  4\n",
      "1 :  81\n",
      "2 :  49\n",
      "##### number of clusters:  5  ########\n",
      "cluster:  1\n",
      "1 :  280\n",
      "2 :  116\n",
      "cluster:  2\n",
      "1 :  83\n",
      "2 :  49\n",
      "cluster:  3\n",
      "1 :  185\n",
      "2 :  81\n",
      "cluster:  4\n",
      "1 :  17\n",
      "2 :  25\n",
      "cluster:  5\n",
      "1 :  135\n",
      "2 :  29\n",
      "##### number of clusters:  6  ########\n",
      "cluster:  1\n",
      "1 :  142\n",
      "2 :  28\n",
      "cluster:  2\n",
      "1 :  43\n",
      "2 :  38\n",
      "cluster:  3\n",
      "1 :  276\n",
      "2 :  115\n",
      "cluster:  4\n",
      "1 :  12\n",
      "2 :  22\n",
      "cluster:  5\n",
      "1 :  62\n",
      "2 :  24\n",
      "cluster:  6\n",
      "1 :  165\n",
      "2 :  73\n",
      "##### number of clusters:  7  ########\n",
      "cluster:  1\n",
      "1 :  137\n",
      "2 :  27\n",
      "cluster:  2\n",
      "1 :  40\n",
      "2 :  37\n",
      "cluster:  3\n",
      "1 :  250\n",
      "2 :  106\n",
      "cluster:  4\n",
      "1 :  13\n",
      "2 :  22\n",
      "cluster:  5\n",
      "1 :  61\n",
      "2 :  22\n",
      "cluster:  6\n",
      "1 :  54\n",
      "2 :  39\n",
      "cluster:  7\n",
      "1 :  145\n",
      "2 :  47\n",
      "##### number of clusters:  8  ########\n",
      "cluster:  1\n",
      "1 :  53\n",
      "2 :  38\n",
      "cluster:  2\n",
      "1 :  27\n",
      "2 :  22\n",
      "cluster:  3\n",
      "1 :  254\n",
      "2 :  105\n",
      "cluster:  4\n",
      "1 :  8\n",
      "2 :  17\n",
      "cluster:  5\n",
      "1 :  131\n",
      "2 :  26\n",
      "cluster:  6\n",
      "1 :  55\n",
      "2 :  20\n",
      "cluster:  7\n",
      "1 :  147\n",
      "2 :  49\n",
      "cluster:  8\n",
      "1 :  25\n",
      "2 :  23\n",
      "##### number of clusters:  9  ########\n",
      "cluster:  1\n",
      "1 :  205\n",
      "2 :  69\n",
      "cluster:  2\n",
      "1 :  29\n",
      "2 :  27\n",
      "cluster:  3\n",
      "1 :  125\n",
      "2 :  26\n",
      "cluster:  4\n",
      "1 :  46\n",
      "2 :  17\n",
      "cluster:  5\n",
      "1 :  54\n",
      "2 :  36\n",
      "cluster:  6\n",
      "1 :  7\n",
      "2 :  14\n",
      "cluster:  7\n",
      "1 :  20\n",
      "2 :  17\n",
      "cluster:  8\n",
      "1 :  113\n",
      "2 :  32\n",
      "cluster:  9\n",
      "1 :  101\n",
      "2 :  62\n",
      "##### number of clusters:  10  ########\n",
      "cluster:  1\n",
      "1 :  108\n",
      "2 :  20\n",
      "cluster:  2\n",
      "1 :  109\n",
      "2 :  36\n",
      "cluster:  3\n",
      "1 :  20\n",
      "2 :  21\n",
      "cluster:  4\n",
      "1 :  191\n",
      "2 :  66\n",
      "cluster:  5\n",
      "1 :  39\n",
      "2 :  29\n",
      "cluster:  6\n",
      "1 :  32\n",
      "2 :  27\n",
      "cluster:  7\n",
      "1 :  49\n",
      "2 :  15\n",
      "cluster:  8\n",
      "1 :  49\n",
      "2 :  16\n",
      "cluster:  9\n",
      "1 :  99\n",
      "2 :  61\n",
      "cluster:  10\n",
      "1 :  4\n",
      "2 :  9\n"
     ]
    }
   ],
   "source": [
    "# k-means\n",
    "for i in range(2,11):\n",
    "    print('##### number of clusters: ',i,\" ########\")\n",
    "    kmeans = KMeans(n_clusters=i).fit(X)\n",
    "    for k in range(i):\n",
    "        print('cluster: ', k+1)\n",
    "        b = y[np.where(kmeans.labels_ == k)[0]]\n",
    "        for j in [1,2]:\n",
    "            count = np.count_nonzero(b==j)\n",
    "            print(j,\": \", count)"
   ]
  },
  {
   "cell_type": "code",
   "execution_count": 108,
   "metadata": {},
   "outputs": [],
   "source": [
    "# the k-means does not work here"
   ]
  },
  {
   "cell_type": "code",
   "execution_count": 155,
   "metadata": {},
   "outputs": [
    {
     "name": "stdout",
     "output_type": "stream",
     "text": [
      " train accuracy: 0.7571428571428571\n",
      " test accuracy: 0.7733333333333333\n",
      " recall: 0.8617511520737328\n",
      " precision: 0.8311111111111111 \n",
      " f score: 0.8461538461538461\n"
     ]
    },
    {
     "name": "stderr",
     "output_type": "stream",
     "text": [
      "c:\\users\\esysss\\appdata\\local\\programs\\python\\python37\\lib\\site-packages\\sklearn\\neural_network\\multilayer_perceptron.py:566: ConvergenceWarning: Stochastic Optimizer: Maximum iterations (200) reached and the optimization hasn't converged yet.\n",
      "  % self.max_iter, ConvergenceWarning)\n"
     ]
    }
   ],
   "source": [
    "# Neural network\n",
    "clf = MLPClassifier(hidden_layer_sizes = (10)).fit(X_train, y_train)\n",
    "print(' train accuracy: {}\\n test accuracy: {}\\n recall: {}\\n precision: {} \\n f score: {}'.format(\n",
    "accuracy_score(y_train, clf.predict(X_train)),\n",
    "accuracy_score(y_test, clf.predict(X_test)),\n",
    "recall_score(y_test, clf.predict(X_test)),\n",
    "precision_score(y_test, clf.predict(X_test)),\n",
    "f1_score(y_test, clf.predict(X_test))\n",
    "))"
   ]
  },
  {
   "cell_type": "code",
   "execution_count": 112,
   "metadata": {},
   "outputs": [
    {
     "name": "stdout",
     "output_type": "stream",
     "text": [
      " train accuracy: 0.8285714285714286\n",
      " test accuracy: 0.78\n",
      " recall: 0.8847926267281107\n",
      " precision: 0.8240343347639485 \n",
      " f score: 0.8533333333333334\n"
     ]
    },
    {
     "name": "stderr",
     "output_type": "stream",
     "text": [
      "c:\\users\\esysss\\appdata\\local\\programs\\python\\python37\\lib\\site-packages\\sklearn\\neural_network\\multilayer_perceptron.py:566: ConvergenceWarning: Stochastic Optimizer: Maximum iterations (200) reached and the optimization hasn't converged yet.\n",
      "  % self.max_iter, ConvergenceWarning)\n"
     ]
    }
   ],
   "source": [
    "# Neural network\n",
    "clf = MLPClassifier().fit(X_train, y_train)\n",
    "print(' train accuracy: {}\\n test accuracy: {}\\n recall: {}\\n precision: {} \\n f score: {}'.format(\n",
    "accuracy_score(y_train, clf.predict(X_train)),\n",
    "accuracy_score(y_test, clf.predict(X_test)),\n",
    "recall_score(y_test, clf.predict(X_test)),\n",
    "precision_score(y_test, clf.predict(X_test)),\n",
    "f1_score(y_test, clf.predict(X_test))\n",
    "))"
   ]
  },
  {
   "cell_type": "code",
   "execution_count": 166,
   "metadata": {},
   "outputs": [
    {
     "name": "stdout",
     "output_type": "stream",
     "text": [
      " train accuracy: 0.8628571428571429\n",
      " test accuracy: 0.7533333333333333\n",
      " recall: 0.8755760368663594\n",
      " precision: 0.8016877637130801 \n",
      " f score: 0.8370044052863436\n"
     ]
    },
    {
     "name": "stderr",
     "output_type": "stream",
     "text": [
      "c:\\users\\esysss\\appdata\\local\\programs\\python\\python37\\lib\\site-packages\\sklearn\\neural_network\\multilayer_perceptron.py:566: ConvergenceWarning: Stochastic Optimizer: Maximum iterations (200) reached and the optimization hasn't converged yet.\n",
      "  % self.max_iter, ConvergenceWarning)\n"
     ]
    }
   ],
   "source": [
    "# Neural network\n",
    "clf = MLPClassifier(hidden_layer_sizes = (64,64), tol = 1e-100, n_iter_no_change = 200).fit(X_train, y_train)\n",
    "print(' train accuracy: {}\\n test accuracy: {}\\n recall: {}\\n precision: {} \\n f score: {}'.format(\n",
    "accuracy_score(y_train, clf.predict(X_train)),\n",
    "accuracy_score(y_test, clf.predict(X_test)),\n",
    "recall_score(y_test, clf.predict(X_test)),\n",
    "precision_score(y_test, clf.predict(X_test)),\n",
    "f1_score(y_test, clf.predict(X_test))\n",
    "))"
   ]
  },
  {
   "cell_type": "code",
   "execution_count": 134,
   "metadata": {},
   "outputs": [
    {
     "name": "stdout",
     "output_type": "stream",
     "text": [
      " train accuracy: 0.8328571428571429\n",
      " test accuracy: 0.7966666666666666\n",
      " recall: 0.8571428571428571\n",
      " precision: 0.8611111111111112 \n",
      " f score: 0.859122401847575\n"
     ]
    },
    {
     "name": "stderr",
     "output_type": "stream",
     "text": [
      "c:\\users\\esysss\\appdata\\local\\programs\\python\\python37\\lib\\site-packages\\sklearn\\neural_network\\multilayer_perceptron.py:566: ConvergenceWarning: Stochastic Optimizer: Maximum iterations (200) reached and the optimization hasn't converged yet.\n",
      "  % self.max_iter, ConvergenceWarning)\n"
     ]
    }
   ],
   "source": [
    "# Neural network\n",
    "clf = MLPClassifier(hidden_layer_sizes = (128), tol = 1e-10).fit(X_train, y_train)\n",
    "print(' train accuracy: {}\\n test accuracy: {}\\n recall: {}\\n precision: {} \\n f score: {}'.format(\n",
    "accuracy_score(y_train, clf.predict(X_train)),\n",
    "accuracy_score(y_test, clf.predict(X_test)),\n",
    "recall_score(y_test, clf.predict(X_test)),\n",
    "precision_score(y_test, clf.predict(X_test)),\n",
    "f1_score(y_test, clf.predict(X_test))\n",
    "))"
   ]
  },
  {
   "cell_type": "code",
   "execution_count": 157,
   "metadata": {},
   "outputs": [
    {
     "name": "stdout",
     "output_type": "stream",
     "text": [
      " train accuracy: 0.9428571428571428\n",
      " test accuracy: 0.7833333333333333\n",
      " recall: 0.8525345622119815\n",
      " precision: 0.8486238532110092 \n",
      " f score: 0.8505747126436782\n"
     ]
    },
    {
     "name": "stderr",
     "output_type": "stream",
     "text": [
      "c:\\users\\esysss\\appdata\\local\\programs\\python\\python37\\lib\\site-packages\\sklearn\\neural_network\\multilayer_perceptron.py:566: ConvergenceWarning: Stochastic Optimizer: Maximum iterations (200) reached and the optimization hasn't converged yet.\n",
      "  % self.max_iter, ConvergenceWarning)\n"
     ]
    }
   ],
   "source": [
    "# Neural network\n",
    "clf = MLPClassifier(hidden_layer_sizes = (64,128,128,64,32), tol = 1e-100,n_iter_no_change = 60).fit(X_train, y_train)\n",
    "print(' train accuracy: {}\\n test accuracy: {}\\n recall: {}\\n precision: {} \\n f score: {}'.format(\n",
    "accuracy_score(y_train, clf.predict(X_train)),\n",
    "accuracy_score(y_test, clf.predict(X_test)),\n",
    "recall_score(y_test, clf.predict(X_test)),\n",
    "precision_score(y_test, clf.predict(X_test)),\n",
    "f1_score(y_test, clf.predict(X_test))\n",
    "))"
   ]
  }
 ],
 "metadata": {
  "kernelspec": {
   "display_name": "Python 3 (ipykernel)",
   "language": "python",
   "name": "python3"
  },
  "language_info": {
   "codemirror_mode": {
    "name": "ipython",
    "version": 3
   },
   "file_extension": ".py",
   "mimetype": "text/x-python",
   "name": "python",
   "nbconvert_exporter": "python",
   "pygments_lexer": "ipython3",
   "version": "3.10.0"
  }
 },
 "nbformat": 4,
 "nbformat_minor": 4
}
